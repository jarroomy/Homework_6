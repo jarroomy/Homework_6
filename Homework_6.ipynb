{
  "nbformat": 4,
  "nbformat_minor": 0,
  "metadata": {
    "colab": {
      "provenance": []
    },
    "kernelspec": {
      "name": "python3",
      "display_name": "Python 3"
    },
    "language_info": {
      "name": "python"
    }
  },
  "cells": [
    {
      "cell_type": "code",
      "execution_count": 4,
      "metadata": {
        "colab": {
          "base_uri": "https://localhost:8080/"
        },
        "id": "Fd9UecF-cu1z",
        "outputId": "cc96d479-5ef3-4575-b817-c71a294a74e4"
      },
      "outputs": [
        {
          "output_type": "stream",
          "name": "stderr",
          "text": [
            "[nltk_data] Downloading package stopwords to /root/nltk_data...\n",
            "[nltk_data]   Unzipping corpora/stopwords.zip.\n",
            "[nltk_data] Downloading package wordnet to /root/nltk_data...\n",
            "[nltk_data] Downloading package punkt to /root/nltk_data...\n",
            "[nltk_data]   Unzipping tokenizers/punkt.zip.\n"
          ]
        },
        {
          "output_type": "execute_result",
          "data": {
            "text/plain": [
              "True"
            ]
          },
          "metadata": {},
          "execution_count": 4
        }
      ],
      "source": [
        "import nltk\n",
        "nltk.download('stopwords')\n",
        "nltk.download('wordnet')\n",
        "nltk.download('punkt')"
      ]
    },
    {
      "cell_type": "code",
      "source": [
        "!pip install requests\n",
        "import requests\n",
        "target_url = 'http://www.gutenberg.org/files/2265/2265.txt'\n",
        "response = requests.get(target_url)\n",
        "data = response.text"
      ],
      "metadata": {
        "colab": {
          "base_uri": "https://localhost:8080/"
        },
        "id": "2l2qQ1ymf62-",
        "outputId": "88d01f14-26bd-4899-f08d-21a26dd81277"
      },
      "execution_count": 2,
      "outputs": [
        {
          "output_type": "stream",
          "name": "stdout",
          "text": [
            "Requirement already satisfied: requests in /usr/local/lib/python3.10/dist-packages (2.32.3)\n",
            "Requirement already satisfied: charset-normalizer<4,>=2 in /usr/local/lib/python3.10/dist-packages (from requests) (3.3.2)\n",
            "Requirement already satisfied: idna<4,>=2.5 in /usr/local/lib/python3.10/dist-packages (from requests) (3.10)\n",
            "Requirement already satisfied: urllib3<3,>=1.21.1 in /usr/local/lib/python3.10/dist-packages (from requests) (2.2.3)\n",
            "Requirement already satisfied: certifi>=2017.4.17 in /usr/local/lib/python3.10/dist-packages (from requests) (2024.8.30)\n"
          ]
        }
      ]
    },
    {
      "cell_type": "code",
      "source": [
        "from pathlib import Path\n",
        "from textblob import TextBlob\n",
        "blob = TextBlob(data)"
      ],
      "metadata": {
        "id": "4AcKp9fWPh33"
      },
      "execution_count": 3,
      "outputs": []
    },
    {
      "cell_type": "code",
      "source": [
        "from nltk.corpus import stopwords\n",
        "stop_words = stopwords.words('english')"
      ],
      "metadata": {
        "id": "8Gznq8hK7vt1"
      },
      "execution_count": 14,
      "outputs": []
    },
    {
      "cell_type": "code",
      "source": [
        "items = blob.word_counts.items()\n",
        "items = [item for item in items if item[0] not in stop_words]"
      ],
      "metadata": {
        "id": "cl1x1JTp8WmA"
      },
      "execution_count": 16,
      "outputs": []
    },
    {
      "cell_type": "code",
      "source": [
        "from operator import itemgetter\n",
        "sorted_list = sorted(items, key=itemgetter(1), reverse=True)"
      ],
      "metadata": {
        "id": "3UeHH_Vh-Qx8"
      },
      "execution_count": 17,
      "outputs": []
    },
    {
      "cell_type": "code",
      "source": [
        "import pandas as pd\n",
        "top20 = sorted_list[1:21]\n",
        "df = pd.DataFrame(top20, columns=['word', 'count'])\n",
        "print(df)"
      ],
      "metadata": {
        "colab": {
          "base_uri": "https://localhost:8080/"
        },
        "id": "3o-DgnhdOihc",
        "outputId": "28f7b77c-e1a0-4ae5-fbbb-2852368621e0"
      },
      "execution_count": 34,
      "outputs": [
        {
          "output_type": "stream",
          "name": "stdout",
          "text": [
            "      word  count\n",
            "0     lord    211\n",
            "1     haue    175\n",
            "2     king    173\n",
            "3    shall    107\n",
            "4   hamlet    106\n",
            "5     come    106\n",
            "6     thou    105\n",
            "7      let    104\n",
            "8     good     99\n",
            "9      hor     95\n",
            "10     thy     90\n",
            "11     may     85\n",
            "12   enter     85\n",
            "13      oh     81\n",
            "14    like     79\n",
            "15    well     71\n",
            "16    know     70\n",
            "17   would     69\n",
            "18   selfe     68\n",
            "19    loue     65\n"
          ]
        }
      ]
    },
    {
      "cell_type": "code",
      "source": [
        "axes = df.plot.bar(x='word', y='count', legend=False)"
      ],
      "metadata": {
        "colab": {
          "base_uri": "https://localhost:8080/",
          "height": 484
        },
        "id": "3PdSBWTITGfN",
        "outputId": "1221e96f-b93e-4671-dc48-c066228f817c"
      },
      "execution_count": 33,
      "outputs": [
        {
          "output_type": "display_data",
          "data": {
            "text/plain": [
              "<Figure size 640x480 with 1 Axes>"
            ],
            "image/png": "[encoded data removed]"
          },
          "metadata": {}
        }
      ]
    },
    {
      "cell_type": "code",
      "source": [
        "import imageio\n",
        "image_file = \"https://media.cheggcdn.com/media/216/21621ee5-e80f-47f3-9145-513f2229b390/phploeBuh.png\"\n",
        "mask_image = imageio.imread(image_file)"
      ],
      "metadata": {
        "colab": {
          "base_uri": "https://localhost:8080/"
        },
        "id": "8c3bN9DnQcsx",
        "outputId": "1049ac1c-e1f4-4870-adb3-70620fe9d482"
      },
      "execution_count": 5,
      "outputs": [
        {
          "output_type": "stream",
          "name": "stderr",
          "text": [
            "<ipython-input-5-6b8a4ebb86ff>:3: DeprecationWarning: Starting with ImageIO v3 the behavior of this function will switch to that of iio.v3.imread. To keep the current behavior (and make this warning disappear) use `import imageio.v2 as imageio` or call `imageio.v2.imread` directly.\n",
            "  mask_image = imageio.imread(image_file)\n"
          ]
        }
      ]
    },
    {
      "cell_type": "code",
      "source": [
        "from wordcloud import WordCloud\n",
        "import matplotlib.pyplot as plt\n",
        "wordcloud = WordCloud(colormap='prism', mask=mask_image, background_color='white')\n",
        "wordcloud = wordcloud.generate(data)\n",
        "wordcloud = wordcloud.to_file('hamlet.png')\n"
      ],
      "metadata": {
        "id": "P3TZ1LkoUTjp"
      },
      "execution_count": 32,
      "outputs": []
    }
  ]
}